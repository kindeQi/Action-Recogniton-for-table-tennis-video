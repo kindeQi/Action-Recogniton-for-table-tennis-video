{
 "cells": [
  {
   "cell_type": "code",
   "execution_count": 9,
   "metadata": {
    "collapsed": true
   },
   "outputs": [],
   "source": [
    "# 0~3 right leg (up to down)\n",
    "# 4~6 left leg (up to down)\n",
    "# 7~10 body and head (down to up)\n",
    "# 11~13 left hand (up to down)\n",
    "# 14~16 right hand (up to down)\n",
    "\n",
    "import os\n",
    "import math\n",
    "import shutil\n",
    "import matplotlib\n",
    "import numpy as np\n",
    "import xgboost as xgb\n",
    "import matplotlib.pyplot as plt\n",
    "\n",
    "_CONNECTION = [\n",
    "    [0, 1], [1, 2], [2, 3], [0, 4], [4, 5], [5, 6], [0, 7], [7, 8],\n",
    "    [8, 9], [9, 10], [8, 11], [11, 12], [12, 13], [8, 14], [14, 15],\n",
    "    [15, 16]]\n",
    "# since fram 433 to frame 438 is missing ,so just skip them and turn aciton_1 into aciton_1 and aciton_2\n",
    "# _ACTION_PROPOSALS = [[0 + 1, 321], [438+1, 651], [673 + 1, 982], [1003 + 1, 1313], [1335 + 1, 1643], [1664 + 1, 1973], [1995 + 1, 2304], [2327 + 1, 2639]]\n",
    "_ACTION_PROPOSALS = [[0 + 1, 321], [342 + 1, 437], [438+1, 651],  [673 + 1, 982], [1003 + 1, 1313], [1335 + 1, 1643], [1664 + 1, 1973], [1995 + 1, 2304], [2327 + 1, 2639]]\n",
    "_INDEX_RANGE = range(1, 2638 + 1)\n",
    "_COLOR = [(0, 0, 0), (255, 0, 0), (0, 255, 0), (0, 0, 255),\n",
    "          (0, 255, 255), (255, 0, 255), (0, 255, 255), (255, 255, 255)]"
   ]
  },
  {
   "cell_type": "code",
   "execution_count": 11,
   "metadata": {
    "collapsed": false
   },
   "outputs": [],
   "source": [
    "new_file_index = 0\n",
    "for i in _ACTION_PROPOSALS:\n",
    "    for original_file_index in range(i[0], i[1]):\n",
    "        shutil.copyfile('./original_imgs/{}.png'.format(original_file_index), \n",
    "                        './result_img_1230/{}.png'.format(new_file_index))\n",
    "        new_file_index += 1     \n",
    "# os.listdir('./original_imgs')"
   ]
  }
 ],
 "metadata": {
  "kernelspec": {
   "display_name": "Python 3",
   "language": "python",
   "name": "python3"
  },
  "language_info": {
   "codemirror_mode": {
    "name": "ipython",
    "version": 3
   },
   "file_extension": ".py",
   "mimetype": "text/x-python",
   "name": "python",
   "nbconvert_exporter": "python",
   "pygments_lexer": "ipython3",
   "version": "3.6.0"
  }
 },
 "nbformat": 4,
 "nbformat_minor": 2
}
